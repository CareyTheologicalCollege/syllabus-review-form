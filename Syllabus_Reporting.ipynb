{
  "nbformat": 4,
  "nbformat_minor": 0,
  "metadata": {
    "colab": {
      "name": "Syllabus Reporting.ipynb",
      "provenance": [],
      "authorship_tag": "ABX9TyP/FzwF+GRML4p5JTcSOfua",
      "include_colab_link": true
    },
    "kernelspec": {
      "name": "python3",
      "display_name": "Python 3"
    },
    "language_info": {
      "name": "python"
    }
  },
  "cells": [
    {
      "cell_type": "markdown",
      "metadata": {
        "id": "view-in-github",
        "colab_type": "text"
      },
      "source": [
        "<a href=\"https://colab.research.google.com/github/ctcacademiccatalogue/syllabus-review-form/blob/main/Syllabus_Reporting.ipynb\" target=\"_parent\"><img src=\"https://colab.research.google.com/assets/colab-badge.svg\" alt=\"Open In Colab\"/></a>"
      ]
    },
    {
      "cell_type": "code",
      "metadata": {
        "id": "_j4sdXi1-Lvz"
      },
      "source": [
        "import matplotlib as mpl\n",
        "sheetdata = sheetname.row_values(2)\n",
        "ycount = 0\n",
        "ncount = 0\n",
        "for y in sheetdata:\n",
        "    if y == \"Yes\":\n",
        "      ycount = ycount + 1\n",
        "    elif y == \"No\":\n",
        "      ncount = ncount + 1\n",
        "#print(sheetdata)\n",
        "#print(ycount)\n",
        "#print(ncount)\n"
      ],
      "execution_count": null,
      "outputs": []
    }
  ]
}