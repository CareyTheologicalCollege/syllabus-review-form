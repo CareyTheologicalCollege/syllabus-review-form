{
  "nbformat": 4,
  "nbformat_minor": 0,
  "metadata": {
    "colab": {
      "name": "Review Form.ipynb",
      "provenance": [],
      "collapsed_sections": [],
      "mount_file_id": "1vlHrI11ynYfQxwN2g5R5PqRZ__ELPg8r",
      "authorship_tag": "ABX9TyNl0YNCLD5odiVFYAV5+FJJ",
      "include_colab_link": true
    },
    "kernelspec": {
      "name": "python3",
      "display_name": "Python 3"
    },
    "language_info": {
      "name": "python"
    }
  },
  "cells": [
    {
      "cell_type": "markdown",
      "metadata": {
        "id": "view-in-github",
        "colab_type": "text"
      },
      "source": [
        "<a href=\"https://colab.research.google.com/github/ctcacademiccatalogue/syllabus-review-form/blob/main/Review_Form.ipynb\" target=\"_parent\"><img src=\"https://colab.research.google.com/assets/colab-badge.svg\" alt=\"Open In Colab\"/></a>"
      ]
    },
    {
      "cell_type": "code",
      "metadata": {
        "id": "cJwiR38KQXKp",
        "colab": {
          "base_uri": "https://localhost:8080/",
          "height": 739
        },
        "outputId": "a1b6cdc8-5c57-45b6-cd26-59a7423760a9"
      },
      "source": [
        "!pip install gspread-formatting\n",
        "!pip install --upgrade gspread\n",
        "#test text"
      ],
      "execution_count": null,
      "outputs": [
        {
          "output_type": "stream",
          "text": [
            "Collecting gspread-formatting\n",
            "  Downloading gspread_formatting-1.0.3-py2.py3-none-any.whl (21 kB)\n",
            "Requirement already satisfied: gspread>=3.0.0 in /usr/local/lib/python3.7/dist-packages (from gspread-formatting) (3.0.1)\n",
            "Requirement already satisfied: requests>=2.2.1 in /usr/local/lib/python3.7/dist-packages (from gspread>=3.0.0->gspread-formatting) (2.23.0)\n",
            "Requirement already satisfied: chardet<4,>=3.0.2 in /usr/local/lib/python3.7/dist-packages (from requests>=2.2.1->gspread>=3.0.0->gspread-formatting) (3.0.4)\n",
            "Requirement already satisfied: certifi>=2017.4.17 in /usr/local/lib/python3.7/dist-packages (from requests>=2.2.1->gspread>=3.0.0->gspread-formatting) (2021.5.30)\n",
            "Requirement already satisfied: urllib3!=1.25.0,!=1.25.1,<1.26,>=1.21.1 in /usr/local/lib/python3.7/dist-packages (from requests>=2.2.1->gspread>=3.0.0->gspread-formatting) (1.24.3)\n",
            "Requirement already satisfied: idna<3,>=2.5 in /usr/local/lib/python3.7/dist-packages (from requests>=2.2.1->gspread>=3.0.0->gspread-formatting) (2.10)\n",
            "Installing collected packages: gspread-formatting\n",
            "Successfully installed gspread-formatting-1.0.3\n",
            "Requirement already satisfied: gspread in /usr/local/lib/python3.7/dist-packages (3.0.1)\n",
            "Collecting gspread\n",
            "  Downloading gspread-4.0.1-py3-none-any.whl (29 kB)\n",
            "Requirement already satisfied: google-auth-oauthlib>=0.4.1 in /usr/local/lib/python3.7/dist-packages (from gspread) (0.4.4)\n",
            "Requirement already satisfied: google-auth>=1.12.0 in /usr/local/lib/python3.7/dist-packages (from gspread) (1.32.1)\n",
            "Requirement already satisfied: pyasn1-modules>=0.2.1 in /usr/local/lib/python3.7/dist-packages (from google-auth>=1.12.0->gspread) (0.2.8)\n",
            "Requirement already satisfied: six>=1.9.0 in /usr/local/lib/python3.7/dist-packages (from google-auth>=1.12.0->gspread) (1.15.0)\n",
            "Requirement already satisfied: cachetools<5.0,>=2.0.0 in /usr/local/lib/python3.7/dist-packages (from google-auth>=1.12.0->gspread) (4.2.2)\n",
            "Requirement already satisfied: setuptools>=40.3.0 in /usr/local/lib/python3.7/dist-packages (from google-auth>=1.12.0->gspread) (57.2.0)\n",
            "Requirement already satisfied: rsa<5,>=3.1.4 in /usr/local/lib/python3.7/dist-packages (from google-auth>=1.12.0->gspread) (4.7.2)\n",
            "Requirement already satisfied: requests-oauthlib>=0.7.0 in /usr/local/lib/python3.7/dist-packages (from google-auth-oauthlib>=0.4.1->gspread) (1.3.0)\n",
            "Requirement already satisfied: pyasn1<0.5.0,>=0.4.6 in /usr/local/lib/python3.7/dist-packages (from pyasn1-modules>=0.2.1->google-auth>=1.12.0->gspread) (0.4.8)\n",
            "Requirement already satisfied: requests>=2.0.0 in /usr/local/lib/python3.7/dist-packages (from requests-oauthlib>=0.7.0->google-auth-oauthlib>=0.4.1->gspread) (2.23.0)\n",
            "Requirement already satisfied: oauthlib>=3.0.0 in /usr/local/lib/python3.7/dist-packages (from requests-oauthlib>=0.7.0->google-auth-oauthlib>=0.4.1->gspread) (3.1.1)\n",
            "Requirement already satisfied: urllib3!=1.25.0,!=1.25.1,<1.26,>=1.21.1 in /usr/local/lib/python3.7/dist-packages (from requests>=2.0.0->requests-oauthlib>=0.7.0->google-auth-oauthlib>=0.4.1->gspread) (1.24.3)\n",
            "Requirement already satisfied: certifi>=2017.4.17 in /usr/local/lib/python3.7/dist-packages (from requests>=2.0.0->requests-oauthlib>=0.7.0->google-auth-oauthlib>=0.4.1->gspread) (2021.5.30)\n",
            "Requirement already satisfied: chardet<4,>=3.0.2 in /usr/local/lib/python3.7/dist-packages (from requests>=2.0.0->requests-oauthlib>=0.7.0->google-auth-oauthlib>=0.4.1->gspread) (3.0.4)\n",
            "Requirement already satisfied: idna<3,>=2.5 in /usr/local/lib/python3.7/dist-packages (from requests>=2.0.0->requests-oauthlib>=0.7.0->google-auth-oauthlib>=0.4.1->gspread) (2.10)\n",
            "Installing collected packages: gspread\n",
            "  Attempting uninstall: gspread\n",
            "    Found existing installation: gspread 3.0.1\n",
            "    Uninstalling gspread-3.0.1:\n",
            "      Successfully uninstalled gspread-3.0.1\n",
            "Successfully installed gspread-4.0.1\n"
          ],
          "name": "stdout"
        },
        {
          "output_type": "display_data",
          "data": {
            "application/vnd.colab-display-data+json": {
              "pip_warning": {
                "packages": [
                  "gspread"
                ]
              }
            }
          },
          "metadata": {
            "tags": []
          }
        }
      ]
    },
    {
      "cell_type": "code",
      "metadata": {
        "id": "0vMdMOwDQmFk",
        "colab": {
          "base_uri": "https://localhost:8080/"
        },
        "outputId": "ea96ed6c-ae96-4e52-fbe8-343d967cb757"
      },
      "source": [
        "from google.colab import auth\n",
        "auth.authenticate_user()\n",
        "\n",
        "#import gspread\n",
        "import gspread\n",
        "from oauth2client.client import GoogleCredentials \n",
        "\n",
        "#authorizies gspread to connect to Google Sheets\n",
        "gc = gspread.authorize(GoogleCredentials.get_application_default())\n",
        "ds;lkfj11\n",
        "#opens the spreadsheet \n",
        "spdsht = gc.open(input('Term: (example: \"Fall 2021\")'))"
      ],
      "execution_count": null,
      "outputs": [
        {
          "output_type": "stream",
          "text": [
            "Term: (example: \"Fall 2021\")Fall 2021\n"
          ],
          "name": "stdout"
        }
      ]
    },
    {
      "cell_type": "code",
      "metadata": {
        "colab": {
          "base_uri": "https://localhost:8080/"
        },
        "id": "FtLBAEH4WTNj",
        "outputId": "0e9f7077-2697-48c9-9da5-62349c67a82a"
      },
      "source": [
        "#asks for the course title and creates a worksheet for the course.\n",
        "sheetname = spdsht.add_worksheet(title=input('What is the course name? '), rows=100, cols=120)\n",
        "\n",
        "#adds column titles\n",
        "sheetname.batch_update([{'range': 'A1:O1', 'values':[['Course Title', 'Course Objectives', 'Qualitative Assessment', 'Promotional Video', 'Zoom Meetings', 'Electronic Resouces', 'Ojbective Assessment', 'Grading Rubrics', 'Course Navigation', 'Required Reading', 'Problem-Based Learning', 'Course Assignments', 'Grading Balance', 'Course Activities', 'Additional Comments']]}])"
      ],
      "execution_count": null,
      "outputs": [
        {
          "output_type": "stream",
          "text": [
            "What is the course name? BIBL 501\n"
          ],
          "name": "stdout"
        },
        {
          "output_type": "execute_result",
          "data": {
            "text/plain": [
              "{'responses': [{'spreadsheetId': '1J4Tw8WEEYBnh8gQtRVQW7beK8avIBVs9RbBtTc6r_To',\n",
              "   'updatedCells': 15,\n",
              "   'updatedColumns': 15,\n",
              "   'updatedRange': \"'BIBL 501'!A1:O1\",\n",
              "   'updatedRows': 1}],\n",
              " 'spreadsheetId': '1J4Tw8WEEYBnh8gQtRVQW7beK8avIBVs9RbBtTc6r_To',\n",
              " 'totalUpdatedCells': 15,\n",
              " 'totalUpdatedColumns': 15,\n",
              " 'totalUpdatedRows': 1,\n",
              " 'totalUpdatedSheets': 1}"
            ]
          },
          "metadata": {
            "tags": []
          },
          "execution_count": 2
        }
      ]
    },
    {
      "cell_type": "code",
      "metadata": {
        "colab": {
          "base_uri": "https://localhost:8080/"
        },
        "id": "KeKQvCYqXnyl",
        "outputId": "0da8bae6-4fce-4607-fd5d-62eedfa0c2b1"
      },
      "source": [
        "#Yes/No answers\n",
        "courseTitleDescription = input('Does the title and description follow the Senate approved version? ')\n",
        "sheetname.update('A2', courseTitleDescription)\n",
        "courseTitleDescriptionNote = input('Comment: ')\n",
        "sheetname.insert_note('A2', courseTitleDescriptionNote)\n",
        "courseObjectives = input('Is there an objective matched to the acourse PLO?')\n",
        "sheetname.update('B2', courseObjectives)\n",
        "courseObjectivesNote = input('Comment: ')\n",
        "sheetname.insert_note('B2', courseObjectivesNote)\n",
        "qualitativeAssessment = input('Is there an assignment tied explicitly to the objective matched to the course PLO?')\n",
        "sheetname.update('C2', qualitativeAssessment)\n",
        "qualitativeAssessmentNote = input('Comment: ')\n",
        "sheetname.insert_note('C2', qualitativeAssessmentNote)\n",
        "promotionalVideo = input('Is there a short video that was used to promot the course? ')\n",
        "sheetname.update('D2', promotionalVideo)\n",
        "promotionalVideoNote = input('Comment: ')\n",
        "sheetname.insert_note('D2', promotionalVideoNote)\n",
        "zoomMeetings = input('Is there a minimum of two meetings scheduld for students to ask quesions abou the course, assignemtns, objectces, etc.? ')\n",
        "sheetname.update('E2', zoomMeetings)\n",
        "zoomMeetingsNote = input('Comment: ')\n",
        "sheetname.insert_note('E2', zoomMeetingsNote)\n",
        "electronicResouces = input('Are core textbooks available to students electronically on EBSCO? ')\n",
        "sheetname.update('F2', electronicResouces)\n",
        "electronicResoucesNote = input('Comment: ')\n",
        "sheetname.insert_note('F2', electronicResoucesNote)\n",
        "objectiveAssessment = input('Is the course design able to achieve all of the stated learning ojbectives? ')\n",
        "sheetname.update('G2', objectiveAssessment)\n",
        "objectiveAssessmentNote = input('Comment: ')\n",
        "sheetname.insert_note('G2', objectiveAssessmentNote)\n",
        "gradingRubrics = input('Did your students have clear criteria for how they were to achieve an A in assignments submitted? ')\n",
        "sheetname.update('H2', gradingRubrics)\n",
        "gradingRubricsNote = input('Comment: ')\n",
        "sheetname.insert_note('H2', gradingRubricsNote)\n",
        "\n",
        "#1-5 scale answers\n",
        "courseNavigation = input('How well is the navigation of the course logical, consistent, or easily transitioned from week to week?')\n",
        "sheetname.update('I2', courseNavigation)\n",
        "courseNavigationNote = input('Comment: ')\n",
        "sheetname.insert_note('I2', courseNavigationNote)\n",
        "requiredReading = input('What is the quality of the books selected for the course?')\n",
        "sheetname.update('J2', requiredReading)\n",
        "requiredReadingNote = input('Comment: ')\n",
        "sheetname.insert_note('J2', requiredReadingNote)\n",
        "problemLearning = input('How well does the course support the development of skills so that students can better address problems and opportunities in their ministry setting?')\n",
        "sheetname.update('K2', problemLearning)\n",
        "problemLearningNote = input('Comment: ')\n",
        "sheetname.insert_note('K2', problemLearningNote)\n",
        "courseAssignments = input('What is the quality of the of the other assignments (besides the Course Objective based assignment)?')\n",
        "sheetname.update('L2', courseAssignments)\n",
        "courseAssignmentsNote = input('Comment: ')\n",
        "sheetname.insert_note('L2', courseAssignmentsNote)\n",
        "gradingBalance = input('How balanced does the grading for the course seem?')\n",
        "sheetname.update('M2', gradingBalance)\n",
        "gradingBalanceNote = input('Comment: ')\n",
        "sheetname.insert_note('M2', gradingBalanceNote)\n",
        "courseActivities = input('How diverse is the variety of learning activities in the course: i.e., Zoom, forums, wikis, guest speakers, presentations, etc.?')\n",
        "sheetname.update('N2', courseActivities)\n",
        "courseActivitiesNote = input('Comment: ')\n",
        "sheetname.insert_note('N2', courseActivitiesNote)\n",
        "addComments = input('Additional comments?')\n",
        "sheetname.update('O2', addComments)"
      ],
      "execution_count": null,
      "outputs": [
        {
          "output_type": "stream",
          "text": [
            "Does the title and description follow the Senate approved version? Yes\n",
            "Comment: It does\n",
            "Is there an objective matched to the acourse PLO?Yes\n",
            "Comment: Maybe\n",
            "Is there an assignment tied explicitly to the objective matched to the course PLO?Yes\n",
            "Comment: Yup\n",
            "Is there a short video that was used to promot the course? No\n",
            "Comment: Nopers\n",
            "Is there a minimum of two meetings scheduld for students to ask quesions abou the course, assignemtns, objectces, etc.? No\n",
            "Comment: No way\n",
            "Are core textbooks available to students electronically on EBSCO? Yeah?\n",
            "Comment: Who knows\n",
            "Is the course design able to achieve all of the stated learning ojbectives? Maybe\n",
            "Comment: Last week\n",
            "Did your students have clear criteria for how they were to achieve an A in assignments submitted? Sure\n",
            "Comment: Why not\n",
            "How well is the navigation of the course logical, consistent, or easily transitioned from week to week?4\n",
            "Comment: Pretty good\n",
            "What is the quality of the books selected for the course?3\n",
            "Comment: Same old\n",
            "How well does the course support the development of skills so that students can better address problems and opportunities in their ministry setting?Yep\n",
            "Comment: So many problems\n",
            "What is the quality of the of the other assignments (besides the Course Objective based assignment)?5\n",
            "Comment: So good\n",
            "How balanced does the grading for the course seem?3\n",
            "Comment: You know\n",
            "How diverse is the variety of learning activities in the course: i.e., Zoom, forums, wikis, guest speakers, presentations, etc.?1\n",
            "Comment: Bad\n",
            "Additional comments?Nothing yet\n"
          ],
          "name": "stdout"
        },
        {
          "output_type": "execute_result",
          "data": {
            "text/plain": [
              "{'spreadsheetId': '1J4Tw8WEEYBnh8gQtRVQW7beK8avIBVs9RbBtTc6r_To',\n",
              " 'updatedCells': 1,\n",
              " 'updatedColumns': 1,\n",
              " 'updatedRange': \"'BIBL 501'!O2\",\n",
              " 'updatedRows': 1}"
            ]
          },
          "metadata": {
            "tags": []
          },
          "execution_count": 3
        }
      ]
    }
  ]
}