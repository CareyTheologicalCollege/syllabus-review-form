{
  "nbformat": 4,
  "nbformat_minor": 0,
  "metadata": {
    "colab": {
      "name": "Review Form.ipynb",
      "provenance": [],
      "collapsed_sections": [],
      "mount_file_id": "1vlHrI11ynYfQxwN2g5R5PqRZ__ELPg8r",
      "authorship_tag": "ABX9TyOAwwS09CTR8PVqrKu0SuiD",
      "include_colab_link": true
    },
    "kernelspec": {
      "name": "python3",
      "display_name": "Python 3"
    },
    "language_info": {
      "name": "python"
    }
  },
  "cells": [
    {
      "cell_type": "markdown",
      "metadata": {
        "id": "view-in-github",
        "colab_type": "text"
      },
      "source": [
        "<a href=\"https://colab.research.google.com/github/ctcacademiccatalogue/syllabus-review-form/blob/main/Review_Form.ipynb\" target=\"_parent\"><img src=\"https://colab.research.google.com/assets/colab-badge.svg\" alt=\"Open In Colab\"/></a>"
      ]
    },
    {
      "cell_type": "code",
      "metadata": {
        "id": "0vMdMOwDQmFk",
        "colab": {
          "base_uri": "https://localhost:8080/"
        },
        "collapsed": true,
        "outputId": "36882824-60ec-452c-fee0-abead0ab2669"
      },
      "source": [
        "!pip install gspread-formatting\n",
        "!pip install --upgrade gspread\n",
        "from google.colab import auth\n",
        "auth.authenticate_user()\n",
        "\n",
        "#import gspread\n",
        "import gspread\n",
        "from oauth2client.client import GoogleCredentials \n",
        "\n",
        "#authorizies gspread to connect to Google Sheets\n",
        "gc = gspread.authorize(GoogleCredentials.get_application_default())"
      ],
      "execution_count": 98,
      "outputs": [
        {
          "output_type": "stream",
          "name": "stdout",
          "text": [
            "Requirement already satisfied: gspread-formatting in /usr/local/lib/python3.7/dist-packages (1.0.4)\n",
            "Requirement already satisfied: gspread>=3.0.0 in /usr/local/lib/python3.7/dist-packages (from gspread-formatting) (4.0.1)\n",
            "Requirement already satisfied: google-auth>=1.12.0 in /usr/local/lib/python3.7/dist-packages (from gspread>=3.0.0->gspread-formatting) (1.35.0)\n",
            "Requirement already satisfied: google-auth-oauthlib>=0.4.1 in /usr/local/lib/python3.7/dist-packages (from gspread>=3.0.0->gspread-formatting) (0.4.6)\n",
            "Requirement already satisfied: cachetools<5.0,>=2.0.0 in /usr/local/lib/python3.7/dist-packages (from google-auth>=1.12.0->gspread>=3.0.0->gspread-formatting) (4.2.4)\n",
            "Requirement already satisfied: rsa<5,>=3.1.4 in /usr/local/lib/python3.7/dist-packages (from google-auth>=1.12.0->gspread>=3.0.0->gspread-formatting) (4.7.2)\n",
            "Requirement already satisfied: pyasn1-modules>=0.2.1 in /usr/local/lib/python3.7/dist-packages (from google-auth>=1.12.0->gspread>=3.0.0->gspread-formatting) (0.2.8)\n",
            "Requirement already satisfied: six>=1.9.0 in /usr/local/lib/python3.7/dist-packages (from google-auth>=1.12.0->gspread>=3.0.0->gspread-formatting) (1.15.0)\n",
            "Requirement already satisfied: setuptools>=40.3.0 in /usr/local/lib/python3.7/dist-packages (from google-auth>=1.12.0->gspread>=3.0.0->gspread-formatting) (57.4.0)\n",
            "Requirement already satisfied: requests-oauthlib>=0.7.0 in /usr/local/lib/python3.7/dist-packages (from google-auth-oauthlib>=0.4.1->gspread>=3.0.0->gspread-formatting) (1.3.0)\n",
            "Requirement already satisfied: pyasn1<0.5.0,>=0.4.6 in /usr/local/lib/python3.7/dist-packages (from pyasn1-modules>=0.2.1->google-auth>=1.12.0->gspread>=3.0.0->gspread-formatting) (0.4.8)\n",
            "Requirement already satisfied: requests>=2.0.0 in /usr/local/lib/python3.7/dist-packages (from requests-oauthlib>=0.7.0->google-auth-oauthlib>=0.4.1->gspread>=3.0.0->gspread-formatting) (2.23.0)\n",
            "Requirement already satisfied: oauthlib>=3.0.0 in /usr/local/lib/python3.7/dist-packages (from requests-oauthlib>=0.7.0->google-auth-oauthlib>=0.4.1->gspread>=3.0.0->gspread-formatting) (3.1.1)\n",
            "Requirement already satisfied: chardet<4,>=3.0.2 in /usr/local/lib/python3.7/dist-packages (from requests>=2.0.0->requests-oauthlib>=0.7.0->google-auth-oauthlib>=0.4.1->gspread>=3.0.0->gspread-formatting) (3.0.4)\n",
            "Requirement already satisfied: urllib3!=1.25.0,!=1.25.1,<1.26,>=1.21.1 in /usr/local/lib/python3.7/dist-packages (from requests>=2.0.0->requests-oauthlib>=0.7.0->google-auth-oauthlib>=0.4.1->gspread>=3.0.0->gspread-formatting) (1.24.3)\n",
            "Requirement already satisfied: certifi>=2017.4.17 in /usr/local/lib/python3.7/dist-packages (from requests>=2.0.0->requests-oauthlib>=0.7.0->google-auth-oauthlib>=0.4.1->gspread>=3.0.0->gspread-formatting) (2021.5.30)\n",
            "Requirement already satisfied: idna<3,>=2.5 in /usr/local/lib/python3.7/dist-packages (from requests>=2.0.0->requests-oauthlib>=0.7.0->google-auth-oauthlib>=0.4.1->gspread>=3.0.0->gspread-formatting) (2.10)\n",
            "Requirement already satisfied: gspread in /usr/local/lib/python3.7/dist-packages (4.0.1)\n",
            "Requirement already satisfied: google-auth>=1.12.0 in /usr/local/lib/python3.7/dist-packages (from gspread) (1.35.0)\n",
            "Requirement already satisfied: google-auth-oauthlib>=0.4.1 in /usr/local/lib/python3.7/dist-packages (from gspread) (0.4.6)\n",
            "Requirement already satisfied: rsa<5,>=3.1.4 in /usr/local/lib/python3.7/dist-packages (from google-auth>=1.12.0->gspread) (4.7.2)\n",
            "Requirement already satisfied: cachetools<5.0,>=2.0.0 in /usr/local/lib/python3.7/dist-packages (from google-auth>=1.12.0->gspread) (4.2.4)\n",
            "Requirement already satisfied: setuptools>=40.3.0 in /usr/local/lib/python3.7/dist-packages (from google-auth>=1.12.0->gspread) (57.4.0)\n",
            "Requirement already satisfied: pyasn1-modules>=0.2.1 in /usr/local/lib/python3.7/dist-packages (from google-auth>=1.12.0->gspread) (0.2.8)\n",
            "Requirement already satisfied: six>=1.9.0 in /usr/local/lib/python3.7/dist-packages (from google-auth>=1.12.0->gspread) (1.15.0)\n",
            "Requirement already satisfied: requests-oauthlib>=0.7.0 in /usr/local/lib/python3.7/dist-packages (from google-auth-oauthlib>=0.4.1->gspread) (1.3.0)\n",
            "Requirement already satisfied: pyasn1<0.5.0,>=0.4.6 in /usr/local/lib/python3.7/dist-packages (from pyasn1-modules>=0.2.1->google-auth>=1.12.0->gspread) (0.4.8)\n",
            "Requirement already satisfied: oauthlib>=3.0.0 in /usr/local/lib/python3.7/dist-packages (from requests-oauthlib>=0.7.0->google-auth-oauthlib>=0.4.1->gspread) (3.1.1)\n",
            "Requirement already satisfied: requests>=2.0.0 in /usr/local/lib/python3.7/dist-packages (from requests-oauthlib>=0.7.0->google-auth-oauthlib>=0.4.1->gspread) (2.23.0)\n",
            "Requirement already satisfied: certifi>=2017.4.17 in /usr/local/lib/python3.7/dist-packages (from requests>=2.0.0->requests-oauthlib>=0.7.0->google-auth-oauthlib>=0.4.1->gspread) (2021.5.30)\n",
            "Requirement already satisfied: chardet<4,>=3.0.2 in /usr/local/lib/python3.7/dist-packages (from requests>=2.0.0->requests-oauthlib>=0.7.0->google-auth-oauthlib>=0.4.1->gspread) (3.0.4)\n",
            "Requirement already satisfied: urllib3!=1.25.0,!=1.25.1,<1.26,>=1.21.1 in /usr/local/lib/python3.7/dist-packages (from requests>=2.0.0->requests-oauthlib>=0.7.0->google-auth-oauthlib>=0.4.1->gspread) (1.24.3)\n",
            "Requirement already satisfied: idna<3,>=2.5 in /usr/local/lib/python3.7/dist-packages (from requests>=2.0.0->requests-oauthlib>=0.7.0->google-auth-oauthlib>=0.4.1->gspread) (2.10)\n"
          ]
        }
      ]
    },
    {
      "cell_type": "code",
      "metadata": {
        "id": "LG14YS7XYtWx"
      },
      "source": [
        "#opens the spreadsheet\n",
        "Term = 'Winter 2021' #@param {type:\"string\"}\n",
        "try:\n",
        "  gc.open(Term)\n",
        "except:\n",
        "  gc.copy(file_id='1Kltv2ORzqAdebh5pUH31EBvhNSvJ4FGC4DLCp7VuvgI', title=Term, copy_permissions=True, folder_id='1H2tva_AbnCboA_JO98h_Qq4IBxSZoQGO')\n",
        "spdsht = gc.open(Term)"
      ],
      "execution_count": 99,
      "outputs": []
    },
    {
      "cell_type": "code",
      "metadata": {
        "id": "FtLBAEH4WTNj",
        "collapsed": true,
        "cellView": "form"
      },
      "source": [
        "#asks for the course title and creates a worksheet for the course.\n",
        "Course_Name = 'BIBL 614' #@param {type:\"string\"}\n",
        "sheetname = spdsht.duplicate_sheet(1914699124, insert_sheet_index=0, new_sheet_name=Course_Name)"
      ],
      "execution_count": 100,
      "outputs": []
    },
    {
      "cell_type": "code",
      "metadata": {
        "id": "KeKQvCYqXnyl",
        "cellView": "form"
      },
      "source": [
        "#Yes/No answers\n",
        "#@title Does it follow Senate approved description?\n",
        "courseTitleDescription = 'No' #@param ['Yes','No']\n",
        "sheetname.update('A2', courseTitleDescription)\n",
        "courseTitleDescriptionNote = 'Seems a little dated' #@param {type:\"string\"}\n",
        "sheetname.insert_note('A2', courseTitleDescriptionNote)\n"
      ],
      "execution_count": 101,
      "outputs": []
    },
    {
      "cell_type": "code",
      "metadata": {
        "cellView": "form",
        "id": "ZTxlRH5U7H4Q"
      },
      "source": [
        "#@title Is there a Course Objective matched to a PLO?\n",
        "courseObjectives = 'No' #@param ['Yes','No']\n",
        "sheetname.update('B2', courseObjectives)\n",
        "courseObjectivesNote = '' #@param {type:\"string\"}\n",
        "sheetname.insert_note('B2', courseObjectivesNote)\n"
      ],
      "execution_count": 102,
      "outputs": []
    },
    {
      "cell_type": "code",
      "metadata": {
        "cellView": "form",
        "id": "5Te_9SVy7NBg"
      },
      "source": [
        "#@title Is there an assignment tied explicitly to the objective matched to the course PLO?\n",
        "qualitativeAssessment = \"No\" #@param ['Yes','No']\n",
        "sheetname.update('C2', qualitativeAssessment)\n",
        "qualitativeAssessmentNote = 'Not fully implemented yet' #@param {type:'string'}\n",
        "sheetname.insert_note('C2', qualitativeAssessmentNote)\n"
      ],
      "execution_count": 103,
      "outputs": []
    },
    {
      "cell_type": "code",
      "metadata": {
        "cellView": "form",
        "id": "yYDRt9is8CrK"
      },
      "source": [
        "#@title Is there a short video that was used to promote the course?\n",
        "promotionalVideo = 'Yes' #@param ['Yes','No']\n",
        "sheetname.update('D2', promotionalVideo)\n",
        "promotionalVideoNote = 'It was pretty good' #@param {type:\"string\"}\n",
        "sheetname.insert_note('D2', promotionalVideoNote)\n"
      ],
      "execution_count": 104,
      "outputs": []
    },
    {
      "cell_type": "code",
      "metadata": {
        "cellView": "form",
        "id": "II9eMRDI8U2x"
      },
      "source": [
        "#@title Is there a minimum of two meetings scheduled for students to ask questions about the course, assignments, objectives, etc.?\n",
        "zoomMeetings = 'No' #@param ['Yes','No']\n",
        "sheetname.update('E2', zoomMeetings)\n",
        "zoomMeetingsNote = '' #@param {type:\"string\"}\n",
        "sheetname.insert_note('E2', zoomMeetingsNote)\n"
      ],
      "execution_count": 105,
      "outputs": []
    },
    {
      "cell_type": "code",
      "metadata": {
        "cellView": "form",
        "id": "2Hk7wNG78nkZ"
      },
      "source": [
        "#@title Are core textbooks available to students electronically on EBSCO?\n",
        "electronicResouces = 'Yes' #@param ['Yes','No']\n",
        "sheetname.update('F2', electronicResouces)\n",
        "electronicResoucesNote = '' #@param {type:\"string\"}\n",
        "sheetname.insert_note('F2', electronicResoucesNote)\n"
      ],
      "execution_count": 106,
      "outputs": []
    },
    {
      "cell_type": "code",
      "metadata": {
        "cellView": "form",
        "id": "tSvjzr-v86oA"
      },
      "source": [
        "#@title Is the course design able to achieve all of the stated learning objectives?\n",
        "objectiveAssessment = 'Yes' #@param ['Yes','No']\n",
        "sheetname.update('G2', objectiveAssessment)\n",
        "objectiveAssessmentNote = '' #@param {type:\"string\"}\n",
        "sheetname.insert_note('G2', objectiveAssessmentNote)\n"
      ],
      "execution_count": 107,
      "outputs": []
    },
    {
      "cell_type": "code",
      "metadata": {
        "cellView": "form",
        "id": "HNjDF5Sr9JT4"
      },
      "source": [
        "#@title Did your students have clear criteria for how they were to achieve an A in assignments submitted?\n",
        "gradingRubrics = 'No' #@param ['Yes','No']\n",
        "sheetname.update('H2', gradingRubrics)\n",
        "gradingRubricsNote = '' #@param {type:\"string\"}\n",
        "sheetname.insert_note('H2', gradingRubricsNote)\n"
      ],
      "execution_count": 108,
      "outputs": []
    },
    {
      "cell_type": "code",
      "metadata": {
        "cellView": "form",
        "id": "aIFx8oke0VBJ"
      },
      "source": [
        "#@title On a Scale of 1-5"
      ],
      "execution_count": 109,
      "outputs": []
    },
    {
      "cell_type": "code",
      "metadata": {
        "id": "Aq0kWAl59b3T",
        "cellView": "form"
      },
      "source": [
        "#1-5 scale answers\n",
        "#@title How well is the navigation of the course logical, consistent, or easily transitioned from week to week?\n",
        "courseNavigation = 5 #@param {type:\"integer\"}\n",
        "sheetname.update('J2', courseNavigation)\n",
        "courseNavigationNote = '' #@param {type:\"string\"}\n",
        "sheetname.insert_note('J2', courseNavigationNote)\n"
      ],
      "execution_count": 110,
      "outputs": []
    },
    {
      "cell_type": "code",
      "metadata": {
        "id": "8peHK0QT9sNa",
        "cellView": "form"
      },
      "source": [
        "#@title What is the quality of the books selected for the course?\n",
        "requiredReading = 5 #@param {type:\"integer\"}\n",
        "sheetname.update('K2', requiredReading)\n",
        "requiredReadingNote = '' #@param {type:\"string\"}\n",
        "sheetname.insert_note('K2', requiredReadingNote)\n"
      ],
      "execution_count": 111,
      "outputs": []
    },
    {
      "cell_type": "code",
      "metadata": {
        "id": "E95D0IgX93Zm",
        "cellView": "form"
      },
      "source": [
        "#@title How well does the course support the development of skills so that students can better address problems and opportunities in their ministry setting?\n",
        "problemLearning = 5 #@param {type:\"integer\"}\n",
        "sheetname.update('L2', problemLearning)\n",
        "problemLearningNote = '' #@param {type:\"string\"}\n",
        "sheetname.insert_note('L2', problemLearningNote)\n"
      ],
      "execution_count": 112,
      "outputs": []
    },
    {
      "cell_type": "code",
      "metadata": {
        "id": "VLzvDf6p-JuL",
        "cellView": "form"
      },
      "source": [
        "#@title What is the quality of the other assignments (besides the Course Objective based assignment)?\n",
        "courseAssignments = 5 #@param {type:\"integer\"}\n",
        "sheetname.update('M2', courseAssignments)\n",
        "courseAssignmentsNote = '' #@param {type:\"string\"}\n",
        "sheetname.insert_note('M2', courseAssignmentsNote)\n"
      ],
      "execution_count": 113,
      "outputs": []
    },
    {
      "cell_type": "code",
      "metadata": {
        "id": "nNEo_Bbz-Wvu",
        "cellView": "form"
      },
      "source": [
        "#@title How balanced does the grading for the course seem?\n",
        "gradingBalance = 5 #@param {type:\"integer\"}\n",
        "sheetname.update('N2', gradingBalance)\n",
        "gradingBalanceNote = '' #@param {type:\"string\"}\n",
        "sheetname.insert_note('N2', gradingBalanceNote)\n"
      ],
      "execution_count": 114,
      "outputs": []
    },
    {
      "cell_type": "code",
      "metadata": {
        "id": "b9ftysDW-iLW",
        "cellView": "form"
      },
      "source": [
        "#@title How diverse is the varity of learning activities in the course: i.e., Zoom, forums, wikis, guest speakers, presentations, etc.?\n",
        "courseActivities = 5 #@param {type:\"integer\"}\n",
        "sheetname.update('O2', courseActivities)\n",
        "courseActivitiesNote = '' #@param {type:\"string\"}\n",
        "sheetname.insert_note('O2', courseActivitiesNote)\n"
      ],
      "execution_count": 115,
      "outputs": []
    },
    {
      "cell_type": "code",
      "metadata": {
        "id": "7Teqm7X1-1V0",
        "colab": {
          "base_uri": "https://localhost:8080/"
        },
        "outputId": "de8708c1-9737-42c9-e79f-f59309a8ce67"
      },
      "source": [
        "#@title Additional Comments?\n",
        "addComments = 'This is just a test' #@param {type:'string'}\n",
        "sheetname.update('Q2', addComments)"
      ],
      "execution_count": 116,
      "outputs": [
        {
          "output_type": "execute_result",
          "data": {
            "text/plain": [
              "{'spreadsheetId': '1RWdU-qXKutnsu0Fhzp-T5MzQE65ukyhGrXdtQ5jhdZ8',\n",
              " 'updatedCells': 1,\n",
              " 'updatedColumns': 1,\n",
              " 'updatedRange': \"'BIBL 613'!Q2\",\n",
              " 'updatedRows': 1}"
            ]
          },
          "metadata": {},
          "execution_count": 116
        }
      ]
    }
  ]
}