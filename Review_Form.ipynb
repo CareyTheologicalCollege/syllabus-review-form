{
  "nbformat": 4,
  "nbformat_minor": 0,
  "metadata": {
    "colab": {
      "name": "Review Form.ipynb",
      "provenance": [],
      "collapsed_sections": [],
      "mount_file_id": "1vlHrI11ynYfQxwN2g5R5PqRZ__ELPg8r",
      "authorship_tag": "ABX9TyMsdd3D2qhODN3HARg14kpZ",
      "include_colab_link": true
    },
    "kernelspec": {
      "name": "python3",
      "display_name": "Python 3"
    },
    "language_info": {
      "name": "python"
    }
  },
  "cells": [
    {
      "cell_type": "markdown",
      "metadata": {
        "id": "view-in-github",
        "colab_type": "text"
      },
      "source": [
        "<a href=\"https://colab.research.google.com/github/ctcacademiccatalogue/syllabus-review-form/blob/main/Review_Form.ipynb\" target=\"_parent\"><img src=\"https://colab.research.google.com/assets/colab-badge.svg\" alt=\"Open In Colab\"/></a>"
      ]
    },
    {
      "cell_type": "code",
      "metadata": {
        "id": "0vMdMOwDQmFk",
        "colab": {
          "base_uri": "https://localhost:8080/"
        },
        "cellView": "form",
        "outputId": "8abc7ace-4614-4011-b6cd-04f8849faeb2"
      },
      "source": [
        "!pip install gspread-formatting\n",
        "!pip install --upgrade gspread\n",
        "from google.colab import auth\n",
        "auth.authenticate_user()\n",
        "\n",
        "#import gspread\n",
        "import gspread\n",
        "from oauth2client.client import GoogleCredentials \n",
        "\n",
        "#authorizies gspread to connect to Google Sheets\n",
        "gc = gspread.authorize(GoogleCredentials.get_application_default())\n",
        "#opens the spreadsheet\n",
        "Term = 'Fall 2021' #@param {type:\"string\"}\n",
        "spdsht = gc.open(Term)"
      ],
      "execution_count": 1,
      "outputs": [
        {
          "output_type": "stream",
          "name": "stdout",
          "text": [
            "Collecting gspread-formatting\n",
            "  Downloading gspread_formatting-1.0.4-py2.py3-none-any.whl (21 kB)\n",
            "Requirement already satisfied: gspread>=3.0.0 in /usr/local/lib/python3.7/dist-packages (from gspread-formatting) (3.0.1)\n",
            "Requirement already satisfied: requests>=2.2.1 in /usr/local/lib/python3.7/dist-packages (from gspread>=3.0.0->gspread-formatting) (2.23.0)\n",
            "Requirement already satisfied: chardet<4,>=3.0.2 in /usr/local/lib/python3.7/dist-packages (from requests>=2.2.1->gspread>=3.0.0->gspread-formatting) (3.0.4)\n",
            "Requirement already satisfied: urllib3!=1.25.0,!=1.25.1,<1.26,>=1.21.1 in /usr/local/lib/python3.7/dist-packages (from requests>=2.2.1->gspread>=3.0.0->gspread-formatting) (1.24.3)\n",
            "Requirement already satisfied: certifi>=2017.4.17 in /usr/local/lib/python3.7/dist-packages (from requests>=2.2.1->gspread>=3.0.0->gspread-formatting) (2021.5.30)\n",
            "Requirement already satisfied: idna<3,>=2.5 in /usr/local/lib/python3.7/dist-packages (from requests>=2.2.1->gspread>=3.0.0->gspread-formatting) (2.10)\n",
            "Installing collected packages: gspread-formatting\n",
            "Successfully installed gspread-formatting-1.0.4\n",
            "Requirement already satisfied: gspread in /usr/local/lib/python3.7/dist-packages (3.0.1)\n",
            "Collecting gspread\n",
            "  Downloading gspread-4.0.1-py3-none-any.whl (29 kB)\n",
            "Requirement already satisfied: google-auth-oauthlib>=0.4.1 in /usr/local/lib/python3.7/dist-packages (from gspread) (0.4.6)\n",
            "Requirement already satisfied: google-auth>=1.12.0 in /usr/local/lib/python3.7/dist-packages (from gspread) (1.35.0)\n",
            "Requirement already satisfied: setuptools>=40.3.0 in /usr/local/lib/python3.7/dist-packages (from google-auth>=1.12.0->gspread) (57.4.0)\n",
            "Requirement already satisfied: six>=1.9.0 in /usr/local/lib/python3.7/dist-packages (from google-auth>=1.12.0->gspread) (1.15.0)\n",
            "Requirement already satisfied: cachetools<5.0,>=2.0.0 in /usr/local/lib/python3.7/dist-packages (from google-auth>=1.12.0->gspread) (4.2.4)\n",
            "Requirement already satisfied: pyasn1-modules>=0.2.1 in /usr/local/lib/python3.7/dist-packages (from google-auth>=1.12.0->gspread) (0.2.8)\n",
            "Requirement already satisfied: rsa<5,>=3.1.4 in /usr/local/lib/python3.7/dist-packages (from google-auth>=1.12.0->gspread) (4.7.2)\n",
            "Requirement already satisfied: requests-oauthlib>=0.7.0 in /usr/local/lib/python3.7/dist-packages (from google-auth-oauthlib>=0.4.1->gspread) (1.3.0)\n",
            "Requirement already satisfied: pyasn1<0.5.0,>=0.4.6 in /usr/local/lib/python3.7/dist-packages (from pyasn1-modules>=0.2.1->google-auth>=1.12.0->gspread) (0.4.8)\n",
            "Requirement already satisfied: requests>=2.0.0 in /usr/local/lib/python3.7/dist-packages (from requests-oauthlib>=0.7.0->google-auth-oauthlib>=0.4.1->gspread) (2.23.0)\n",
            "Requirement already satisfied: oauthlib>=3.0.0 in /usr/local/lib/python3.7/dist-packages (from requests-oauthlib>=0.7.0->google-auth-oauthlib>=0.4.1->gspread) (3.1.1)\n",
            "Requirement already satisfied: chardet<4,>=3.0.2 in /usr/local/lib/python3.7/dist-packages (from requests>=2.0.0->requests-oauthlib>=0.7.0->google-auth-oauthlib>=0.4.1->gspread) (3.0.4)\n",
            "Requirement already satisfied: certifi>=2017.4.17 in /usr/local/lib/python3.7/dist-packages (from requests>=2.0.0->requests-oauthlib>=0.7.0->google-auth-oauthlib>=0.4.1->gspread) (2021.5.30)\n",
            "Requirement already satisfied: idna<3,>=2.5 in /usr/local/lib/python3.7/dist-packages (from requests>=2.0.0->requests-oauthlib>=0.7.0->google-auth-oauthlib>=0.4.1->gspread) (2.10)\n",
            "Requirement already satisfied: urllib3!=1.25.0,!=1.25.1,<1.26,>=1.21.1 in /usr/local/lib/python3.7/dist-packages (from requests>=2.0.0->requests-oauthlib>=0.7.0->google-auth-oauthlib>=0.4.1->gspread) (1.24.3)\n",
            "Installing collected packages: gspread\n",
            "  Attempting uninstall: gspread\n",
            "    Found existing installation: gspread 3.0.1\n",
            "    Uninstalling gspread-3.0.1:\n",
            "      Successfully uninstalled gspread-3.0.1\n",
            "Successfully installed gspread-4.0.1\n"
          ]
        }
      ]
    },
    {
      "cell_type": "code",
      "metadata": {
        "id": "FtLBAEH4WTNj",
        "colab": {
          "base_uri": "https://localhost:8080/"
        },
        "cellView": "form",
        "collapsed": true,
        "outputId": "53970c36-b38a-4fd9-bb1a-bdd6046ae263"
      },
      "source": [
        "#asks for the course title and creates a worksheet for the course.\n",
        "Course_Name = 'BIBL 602' #@param {type:\"string\"}\n",
        "sheetname = spdsht.add_worksheet(title=Course_Name, rows=100, cols=120)\n",
        "\n",
        "#adds column titles\n",
        "sheetname.batch_update([{'range': 'A1:O1', 'values':[['Course Title', 'Course Objectives', 'Qualitative Assessment', 'Promotional Video', 'Zoom Meetings', 'Electronic Resouces', 'Ojbective Assessment', 'Grading Rubrics', 'Course Navigation', 'Required Reading', 'Problem-Based Learning', 'Course Assignments', 'Grading Balance', 'Course Activities', 'Additional Comments']]}])"
      ],
      "execution_count": null,
      "outputs": [
        {
          "output_type": "execute_result",
          "data": {
            "text/plain": [
              "{'responses': [{'spreadsheetId': '1J4Tw8WEEYBnh8gQtRVQW7beK8avIBVs9RbBtTc6r_To',\n",
              "   'updatedCells': 15,\n",
              "   'updatedColumns': 15,\n",
              "   'updatedRange': \"'BIBL 602'!A1:O1\",\n",
              "   'updatedRows': 1}],\n",
              " 'spreadsheetId': '1J4Tw8WEEYBnh8gQtRVQW7beK8avIBVs9RbBtTc6r_To',\n",
              " 'totalUpdatedCells': 15,\n",
              " 'totalUpdatedColumns': 15,\n",
              " 'totalUpdatedRows': 1,\n",
              " 'totalUpdatedSheets': 1}"
            ]
          },
          "metadata": {},
          "execution_count": 6
        }
      ]
    },
    {
      "cell_type": "code",
      "metadata": {
        "id": "KeKQvCYqXnyl",
        "cellView": "form"
      },
      "source": [
        "#Yes/No answers\n",
        "#@title Does it follow Senate approved description?\n",
        "courseTitleDescription = 'Yes' #@param ['Yes','No']\n",
        "sheetname.update('A2', courseTitleDescription)\n",
        "courseTitleDescriptionNote = 'Seems a little dated' #@param {type:\"string\"}\n",
        "sheetname.insert_note('A2', courseTitleDescriptionNote)\n"
      ],
      "execution_count": null,
      "outputs": []
    },
    {
      "cell_type": "code",
      "metadata": {
        "cellView": "form",
        "id": "ZTxlRH5U7H4Q"
      },
      "source": [
        "#@title Is there a Course Objective matched to a PLO?\n",
        "courseObjectives = 'No' #@param ['Yes','No']\n",
        "sheetname.update('B2', courseObjectives)\n",
        "courseObjectivesNote = '' #@param {type:\"string\"}\n",
        "sheetname.insert_note('B2', courseObjectivesNote)\n"
      ],
      "execution_count": null,
      "outputs": []
    },
    {
      "cell_type": "code",
      "metadata": {
        "cellView": "form",
        "id": "5Te_9SVy7NBg"
      },
      "source": [
        "#@title Is there an assignment tied explicitly to the objective matched to the course PLO?\n",
        "qualitativeAssessment = \"No\" #@param ['Yes','No']\n",
        "sheetname.update('C2', qualitativeAssessment)\n",
        "qualitativeAssessmentNote = 'Not fully implemented yet' #@param {type:'string'}\n",
        "sheetname.insert_note('C2', qualitativeAssessmentNote)\n"
      ],
      "execution_count": null,
      "outputs": []
    },
    {
      "cell_type": "code",
      "metadata": {
        "cellView": "form",
        "id": "yYDRt9is8CrK"
      },
      "source": [
        "#@title Is there a short video that was used to promote the course?\n",
        "promotionalVideo = 'Yes' #@param ['Yes','No']\n",
        "sheetname.update('D2', promotionalVideo)\n",
        "promotionalVideoNote = 'It was pretty good' #@param {type:\"string\"}\n",
        "sheetname.insert_note('D2', promotionalVideoNote)\n"
      ],
      "execution_count": null,
      "outputs": []
    },
    {
      "cell_type": "code",
      "metadata": {
        "cellView": "form",
        "id": "II9eMRDI8U2x"
      },
      "source": [
        "#@title Is there a minimum of two meetings scheduled for students to ask questions about the course, assignments, objectives, etc.?\n",
        "zoomMeetings = 'No' #@param ['Yes','No']\n",
        "sheetname.update('E2', zoomMeetings)\n",
        "zoomMeetingsNote = '' #@param {type:\"string\"}\n",
        "sheetname.insert_note('E2', zoomMeetingsNote)\n"
      ],
      "execution_count": null,
      "outputs": []
    },
    {
      "cell_type": "code",
      "metadata": {
        "cellView": "form",
        "id": "2Hk7wNG78nkZ"
      },
      "source": [
        "#@title Are core textbooks available to students electronically on EBSCO?\n",
        "electronicResouces = 'Yes' #@param ['Yes','No']\n",
        "sheetname.update('F2', electronicResouces)\n",
        "electronicResoucesNote = '' #@param {type:\"string\"}\n",
        "sheetname.insert_note('F2', electronicResoucesNote)\n"
      ],
      "execution_count": null,
      "outputs": []
    },
    {
      "cell_type": "code",
      "metadata": {
        "cellView": "form",
        "id": "tSvjzr-v86oA"
      },
      "source": [
        "#@title Is the course design able to achieve all of the stated learning objectives?\n",
        "objectiveAssessment = 'Yes' #@param ['Yes','No']\n",
        "sheetname.update('G2', objectiveAssessment)\n",
        "objectiveAssessmentNote = '' #@param {type:\"string\"}\n",
        "sheetname.insert_note('G2', objectiveAssessmentNote)\n"
      ],
      "execution_count": null,
      "outputs": []
    },
    {
      "cell_type": "code",
      "metadata": {
        "cellView": "form",
        "id": "HNjDF5Sr9JT4"
      },
      "source": [
        "#@title Did your students have clear criteria for how they were to achieve an A in assignments submitted?\n",
        "gradingRubrics = 'No' #@param ['Yes','No']\n",
        "sheetname.update('H2', gradingRubrics)\n",
        "gradingRubricsNote = '' #@param {type:\"string\"}\n",
        "sheetname.insert_note('H2', gradingRubricsNote)\n"
      ],
      "execution_count": null,
      "outputs": []
    },
    {
      "cell_type": "code",
      "metadata": {
        "cellView": "form",
        "id": "Aq0kWAl59b3T"
      },
      "source": [
        "#1-5 scale answers\n",
        "#@title How well is the navigation of the course logical, consistent, or easily transitioned from week to week?\n",
        "courseNavigation = '1' #@param [1,2,3,4,5]\n",
        "sheetname.update('I2', courseNavigation)\n",
        "courseNavigationNote = '' #@param {type:\"string\"}\n",
        "sheetname.insert_note('I2', courseNavigationNote)\n"
      ],
      "execution_count": null,
      "outputs": []
    },
    {
      "cell_type": "code",
      "metadata": {
        "cellView": "form",
        "id": "8peHK0QT9sNa"
      },
      "source": [
        "#@title What is the quality of the books selected for the course?\n",
        "requiredReading = '1' #@param [1,2,3,4,5]\n",
        "sheetname.update('J2', requiredReading)\n",
        "requiredReadingNote = '' #@param {type:\"string\"}\n",
        "sheetname.insert_note('J2', requiredReadingNote)\n"
      ],
      "execution_count": null,
      "outputs": []
    },
    {
      "cell_type": "code",
      "metadata": {
        "cellView": "form",
        "id": "E95D0IgX93Zm"
      },
      "source": [
        "#@title How well does the course support the development of skills so that students can better address problems and opportunities in their ministry setting?\n",
        "problemLearning = '1' #@param [1,2,3,4,5]\n",
        "sheetname.update('K2', problemLearning)\n",
        "problemLearningNote = '' #@param {type:\"string\"}\n",
        "sheetname.insert_note('K2', problemLearningNote)\n"
      ],
      "execution_count": null,
      "outputs": []
    },
    {
      "cell_type": "code",
      "metadata": {
        "cellView": "form",
        "id": "VLzvDf6p-JuL"
      },
      "source": [
        "#@title What is the quality of the other assignments (besides the Course Objective based assignment)?\n",
        "courseAssignments = '3' #@param [1,2,3,4,5]\n",
        "sheetname.update('L2', courseAssignments)\n",
        "courseAssignmentsNote = '' #@param {type:\"string\"}\n",
        "sheetname.insert_note('L2', courseAssignmentsNote)\n"
      ],
      "execution_count": null,
      "outputs": []
    },
    {
      "cell_type": "code",
      "metadata": {
        "cellView": "form",
        "id": "nNEo_Bbz-Wvu"
      },
      "source": [
        "#@title How balanced does the grading for the course seem?\n",
        "gradingBalance = '4' #@param [1,2,3,4,5]\n",
        "sheetname.update('M2', gradingBalance)\n",
        "gradingBalanceNote = '' #@param {type:\"string\"}\n",
        "sheetname.insert_note('M2', gradingBalanceNote)\n"
      ],
      "execution_count": null,
      "outputs": []
    },
    {
      "cell_type": "code",
      "metadata": {
        "cellView": "form",
        "id": "b9ftysDW-iLW"
      },
      "source": [
        "#@title How diverse is the varity of learning activities in the course: i.e., Zoom, forums, wikis, guest speakers, presentations, etc.?\n",
        "courseActivities = '5' #@param [1,2,3,4,5]\n",
        "sheetname.update('N2', courseActivities)\n",
        "courseActivitiesNote = '' #@param {type:\"string\"}\n",
        "sheetname.insert_note('N2', courseActivitiesNote)\n"
      ],
      "execution_count": null,
      "outputs": []
    },
    {
      "cell_type": "code",
      "metadata": {
        "cellView": "form",
        "id": "7Teqm7X1-1V0"
      },
      "source": [
        "#@title Additional Comments?\n",
        "addComments = 'This is just a test' #@param {type:'string'}\n",
        "sheetname.update('O2', addComments)"
      ],
      "execution_count": null,
      "outputs": []
    }
  ]
}